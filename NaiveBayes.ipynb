{
 "cells": [
  {
   "cell_type": "code",
   "execution_count": 48,
   "metadata": {},
   "outputs": [],
   "source": [
    "import numpy as np\n",
    "import pandas as pd\n",
    "import matplotlib.pyplot as plt\n",
    "from sklearn.model_selection import train_test_split\n",
    "import seaborn as sns\n",
    "import warnings\n",
    "warnings.filterwarnings(\"ignore\")\n",
    "from collections import Counter"
   ]
  },
  {
   "cell_type": "markdown",
   "metadata": {},
   "source": [
    "# Naive Bayes"
   ]
  },
  {
   "cell_type": "markdown",
   "metadata": {},
   "source": [
    "### In all my project, I refer to positive as Outcome = 1 (positive diagnosis) and to negative as Outcome = 0."
   ]
  },
  {
   "cell_type": "code",
   "execution_count": 50,
   "metadata": {},
   "outputs": [
    {
     "data": {
      "text/html": [
       "<div>\n",
       "<style scoped>\n",
       "    .dataframe tbody tr th:only-of-type {\n",
       "        vertical-align: middle;\n",
       "    }\n",
       "\n",
       "    .dataframe tbody tr th {\n",
       "        vertical-align: top;\n",
       "    }\n",
       "\n",
       "    .dataframe thead th {\n",
       "        text-align: right;\n",
       "    }\n",
       "</style>\n",
       "<table border=\"1\" class=\"dataframe\">\n",
       "  <thead>\n",
       "    <tr style=\"text-align: right;\">\n",
       "      <th></th>\n",
       "      <th>Pregnancies</th>\n",
       "      <th>Glucose</th>\n",
       "      <th>BloodPressure</th>\n",
       "      <th>SkinThickness</th>\n",
       "      <th>Insulin</th>\n",
       "      <th>BMI</th>\n",
       "      <th>DiabetesPedigreeFunction</th>\n",
       "      <th>Age</th>\n",
       "      <th>Outcome</th>\n",
       "    </tr>\n",
       "  </thead>\n",
       "  <tbody>\n",
       "    <tr>\n",
       "      <th>0</th>\n",
       "      <td>6</td>\n",
       "      <td>148</td>\n",
       "      <td>72</td>\n",
       "      <td>35</td>\n",
       "      <td>0</td>\n",
       "      <td>33.6</td>\n",
       "      <td>0.627</td>\n",
       "      <td>50</td>\n",
       "      <td>1</td>\n",
       "    </tr>\n",
       "    <tr>\n",
       "      <th>1</th>\n",
       "      <td>1</td>\n",
       "      <td>85</td>\n",
       "      <td>66</td>\n",
       "      <td>29</td>\n",
       "      <td>0</td>\n",
       "      <td>26.6</td>\n",
       "      <td>0.351</td>\n",
       "      <td>31</td>\n",
       "      <td>0</td>\n",
       "    </tr>\n",
       "    <tr>\n",
       "      <th>2</th>\n",
       "      <td>8</td>\n",
       "      <td>183</td>\n",
       "      <td>64</td>\n",
       "      <td>0</td>\n",
       "      <td>0</td>\n",
       "      <td>23.3</td>\n",
       "      <td>0.672</td>\n",
       "      <td>32</td>\n",
       "      <td>1</td>\n",
       "    </tr>\n",
       "    <tr>\n",
       "      <th>3</th>\n",
       "      <td>1</td>\n",
       "      <td>89</td>\n",
       "      <td>66</td>\n",
       "      <td>23</td>\n",
       "      <td>94</td>\n",
       "      <td>28.1</td>\n",
       "      <td>0.167</td>\n",
       "      <td>21</td>\n",
       "      <td>0</td>\n",
       "    </tr>\n",
       "    <tr>\n",
       "      <th>4</th>\n",
       "      <td>0</td>\n",
       "      <td>137</td>\n",
       "      <td>40</td>\n",
       "      <td>35</td>\n",
       "      <td>168</td>\n",
       "      <td>43.1</td>\n",
       "      <td>2.288</td>\n",
       "      <td>33</td>\n",
       "      <td>1</td>\n",
       "    </tr>\n",
       "  </tbody>\n",
       "</table>\n",
       "</div>"
      ],
      "text/plain": [
       "   Pregnancies  Glucose  BloodPressure  SkinThickness  Insulin   BMI  \\\n",
       "0            6      148             72             35        0  33.6   \n",
       "1            1       85             66             29        0  26.6   \n",
       "2            8      183             64              0        0  23.3   \n",
       "3            1       89             66             23       94  28.1   \n",
       "4            0      137             40             35      168  43.1   \n",
       "\n",
       "   DiabetesPedigreeFunction  Age  Outcome  \n",
       "0                     0.627   50        1  \n",
       "1                     0.351   31        0  \n",
       "2                     0.672   32        1  \n",
       "3                     0.167   21        0  \n",
       "4                     2.288   33        1  "
      ]
     },
     "execution_count": 50,
     "metadata": {},
     "output_type": "execute_result"
    }
   ],
   "source": [
    "dataset = pd.read_csv('diabetes.csv')\n",
    "dataset.head()"
   ]
  },
  {
   "cell_type": "code",
   "execution_count": 51,
   "metadata": {},
   "outputs": [],
   "source": [
    "dataset[['Glucose','BloodPressure','SkinThickness','Insulin','BMI']] = dataset[['Glucose','BloodPressure','SkinThickness','Insulin','BMI']].replace(0,np.NaN)\n",
    "dataset['Glucose'].fillna(dataset['Glucose'].mean(), inplace = True)\n",
    "dataset['BloodPressure'].fillna(dataset['BloodPressure'].mean(), inplace = True)\n",
    "dataset['SkinThickness'].fillna(dataset['SkinThickness'].median(), inplace = True)\n",
    "dataset['Insulin'].fillna(dataset['Insulin'].median(), inplace = True)\n",
    "dataset['BMI'].fillna(dataset['BMI'].median(), inplace = True)"
   ]
  },
  {
   "cell_type": "code",
   "execution_count": 52,
   "metadata": {},
   "outputs": [],
   "source": [
    "dataset['Pregnancies'] = pd.cut(dataset['Pregnancies'],bins=3,labels=['Small','Medium','Large'])\n",
    "dataset['Age'] = pd.cut(dataset['Age'],bins=2,labels=['Young','Old'])"
   ]
  },
  {
   "cell_type": "code",
   "execution_count": 53,
   "metadata": {},
   "outputs": [
    {
     "data": {
      "text/html": [
       "<div>\n",
       "<style scoped>\n",
       "    .dataframe tbody tr th:only-of-type {\n",
       "        vertical-align: middle;\n",
       "    }\n",
       "\n",
       "    .dataframe tbody tr th {\n",
       "        vertical-align: top;\n",
       "    }\n",
       "\n",
       "    .dataframe thead th {\n",
       "        text-align: right;\n",
       "    }\n",
       "</style>\n",
       "<table border=\"1\" class=\"dataframe\">\n",
       "  <thead>\n",
       "    <tr style=\"text-align: right;\">\n",
       "      <th></th>\n",
       "      <th>Pregnancies</th>\n",
       "      <th>Glucose</th>\n",
       "      <th>BloodPressure</th>\n",
       "      <th>SkinThickness</th>\n",
       "      <th>Insulin</th>\n",
       "      <th>BMI</th>\n",
       "      <th>DiabetesPedigreeFunction</th>\n",
       "      <th>Age</th>\n",
       "      <th>Outcome</th>\n",
       "    </tr>\n",
       "  </thead>\n",
       "  <tbody>\n",
       "    <tr>\n",
       "      <th>0</th>\n",
       "      <td>Medium</td>\n",
       "      <td>148.0</td>\n",
       "      <td>72.0</td>\n",
       "      <td>35.0</td>\n",
       "      <td>125.0</td>\n",
       "      <td>33.6</td>\n",
       "      <td>0.627</td>\n",
       "      <td>Young</td>\n",
       "      <td>1</td>\n",
       "    </tr>\n",
       "    <tr>\n",
       "      <th>1</th>\n",
       "      <td>Small</td>\n",
       "      <td>85.0</td>\n",
       "      <td>66.0</td>\n",
       "      <td>29.0</td>\n",
       "      <td>125.0</td>\n",
       "      <td>26.6</td>\n",
       "      <td>0.351</td>\n",
       "      <td>Young</td>\n",
       "      <td>0</td>\n",
       "    </tr>\n",
       "    <tr>\n",
       "      <th>2</th>\n",
       "      <td>Medium</td>\n",
       "      <td>183.0</td>\n",
       "      <td>64.0</td>\n",
       "      <td>29.0</td>\n",
       "      <td>125.0</td>\n",
       "      <td>23.3</td>\n",
       "      <td>0.672</td>\n",
       "      <td>Young</td>\n",
       "      <td>1</td>\n",
       "    </tr>\n",
       "    <tr>\n",
       "      <th>3</th>\n",
       "      <td>Small</td>\n",
       "      <td>89.0</td>\n",
       "      <td>66.0</td>\n",
       "      <td>23.0</td>\n",
       "      <td>94.0</td>\n",
       "      <td>28.1</td>\n",
       "      <td>0.167</td>\n",
       "      <td>Young</td>\n",
       "      <td>0</td>\n",
       "    </tr>\n",
       "    <tr>\n",
       "      <th>4</th>\n",
       "      <td>Small</td>\n",
       "      <td>137.0</td>\n",
       "      <td>40.0</td>\n",
       "      <td>35.0</td>\n",
       "      <td>168.0</td>\n",
       "      <td>43.1</td>\n",
       "      <td>2.288</td>\n",
       "      <td>Young</td>\n",
       "      <td>1</td>\n",
       "    </tr>\n",
       "  </tbody>\n",
       "</table>\n",
       "</div>"
      ],
      "text/plain": [
       "  Pregnancies  Glucose  BloodPressure  SkinThickness  Insulin   BMI  \\\n",
       "0      Medium    148.0           72.0           35.0    125.0  33.6   \n",
       "1       Small     85.0           66.0           29.0    125.0  26.6   \n",
       "2      Medium    183.0           64.0           29.0    125.0  23.3   \n",
       "3       Small     89.0           66.0           23.0     94.0  28.1   \n",
       "4       Small    137.0           40.0           35.0    168.0  43.1   \n",
       "\n",
       "   DiabetesPedigreeFunction    Age  Outcome  \n",
       "0                     0.627  Young        1  \n",
       "1                     0.351  Young        0  \n",
       "2                     0.672  Young        1  \n",
       "3                     0.167  Young        0  \n",
       "4                     2.288  Young        1  "
      ]
     },
     "execution_count": 53,
     "metadata": {},
     "output_type": "execute_result"
    }
   ],
   "source": [
    "dataset.head()"
   ]
  },
  {
   "cell_type": "code",
   "execution_count": 54,
   "metadata": {},
   "outputs": [],
   "source": [
    "from sklearn.preprocessing import StandardScaler\n",
    "sc = StandardScaler()\n",
    "X =  pd.DataFrame(sc.fit_transform(dataset.drop([\"Pregnancies\",\"Age\",\"Outcome\"],axis = 1),),\n",
    "        columns=['Glucose', 'BloodPressure', 'SkinThickness', 'Insulin',\n",
    "       'BMI', 'DiabetesPedigreeFunction'])"
   ]
  },
  {
   "cell_type": "code",
   "execution_count": 55,
   "metadata": {},
   "outputs": [
    {
     "data": {
      "text/html": [
       "<div>\n",
       "<style scoped>\n",
       "    .dataframe tbody tr th:only-of-type {\n",
       "        vertical-align: middle;\n",
       "    }\n",
       "\n",
       "    .dataframe tbody tr th {\n",
       "        vertical-align: top;\n",
       "    }\n",
       "\n",
       "    .dataframe thead th {\n",
       "        text-align: right;\n",
       "    }\n",
       "</style>\n",
       "<table border=\"1\" class=\"dataframe\">\n",
       "  <thead>\n",
       "    <tr style=\"text-align: right;\">\n",
       "      <th></th>\n",
       "      <th>Glucose</th>\n",
       "      <th>BloodPressure</th>\n",
       "      <th>SkinThickness</th>\n",
       "      <th>Insulin</th>\n",
       "      <th>BMI</th>\n",
       "      <th>DiabetesPedigreeFunction</th>\n",
       "    </tr>\n",
       "  </thead>\n",
       "  <tbody>\n",
       "    <tr>\n",
       "      <th>0</th>\n",
       "      <td>0.865108</td>\n",
       "      <td>-0.033518</td>\n",
       "      <td>0.670643</td>\n",
       "      <td>-0.181541</td>\n",
       "      <td>0.166619</td>\n",
       "      <td>0.468492</td>\n",
       "    </tr>\n",
       "    <tr>\n",
       "      <th>1</th>\n",
       "      <td>-1.206162</td>\n",
       "      <td>-0.529859</td>\n",
       "      <td>-0.012301</td>\n",
       "      <td>-0.181541</td>\n",
       "      <td>-0.852200</td>\n",
       "      <td>-0.365061</td>\n",
       "    </tr>\n",
       "    <tr>\n",
       "      <th>2</th>\n",
       "      <td>2.015813</td>\n",
       "      <td>-0.695306</td>\n",
       "      <td>-0.012301</td>\n",
       "      <td>-0.181541</td>\n",
       "      <td>-1.332500</td>\n",
       "      <td>0.604397</td>\n",
       "    </tr>\n",
       "    <tr>\n",
       "      <th>3</th>\n",
       "      <td>-1.074652</td>\n",
       "      <td>-0.529859</td>\n",
       "      <td>-0.695245</td>\n",
       "      <td>-0.540642</td>\n",
       "      <td>-0.633881</td>\n",
       "      <td>-0.920763</td>\n",
       "    </tr>\n",
       "    <tr>\n",
       "      <th>4</th>\n",
       "      <td>0.503458</td>\n",
       "      <td>-2.680669</td>\n",
       "      <td>0.670643</td>\n",
       "      <td>0.316566</td>\n",
       "      <td>1.549303</td>\n",
       "      <td>5.484909</td>\n",
       "    </tr>\n",
       "  </tbody>\n",
       "</table>\n",
       "</div>"
      ],
      "text/plain": [
       "    Glucose  BloodPressure  SkinThickness   Insulin       BMI  \\\n",
       "0  0.865108      -0.033518       0.670643 -0.181541  0.166619   \n",
       "1 -1.206162      -0.529859      -0.012301 -0.181541 -0.852200   \n",
       "2  2.015813      -0.695306      -0.012301 -0.181541 -1.332500   \n",
       "3 -1.074652      -0.529859      -0.695245 -0.540642 -0.633881   \n",
       "4  0.503458      -2.680669       0.670643  0.316566  1.549303   \n",
       "\n",
       "   DiabetesPedigreeFunction  \n",
       "0                  0.468492  \n",
       "1                 -0.365061  \n",
       "2                  0.604397  \n",
       "3                 -0.920763  \n",
       "4                  5.484909  "
      ]
     },
     "execution_count": 55,
     "metadata": {},
     "output_type": "execute_result"
    }
   ],
   "source": [
    "X.head()"
   ]
  },
  {
   "cell_type": "code",
   "execution_count": 56,
   "metadata": {},
   "outputs": [],
   "source": [
    "X['Pregnancies'] = dataset['Pregnancies']\n",
    "X['Age'] = dataset['Age']"
   ]
  },
  {
   "cell_type": "code",
   "execution_count": 57,
   "metadata": {},
   "outputs": [
    {
     "data": {
      "text/html": [
       "<div>\n",
       "<style scoped>\n",
       "    .dataframe tbody tr th:only-of-type {\n",
       "        vertical-align: middle;\n",
       "    }\n",
       "\n",
       "    .dataframe tbody tr th {\n",
       "        vertical-align: top;\n",
       "    }\n",
       "\n",
       "    .dataframe thead th {\n",
       "        text-align: right;\n",
       "    }\n",
       "</style>\n",
       "<table border=\"1\" class=\"dataframe\">\n",
       "  <thead>\n",
       "    <tr style=\"text-align: right;\">\n",
       "      <th></th>\n",
       "      <th>Glucose</th>\n",
       "      <th>BloodPressure</th>\n",
       "      <th>SkinThickness</th>\n",
       "      <th>Insulin</th>\n",
       "      <th>BMI</th>\n",
       "      <th>DiabetesPedigreeFunction</th>\n",
       "      <th>Pregnancies</th>\n",
       "      <th>Age</th>\n",
       "    </tr>\n",
       "  </thead>\n",
       "  <tbody>\n",
       "    <tr>\n",
       "      <th>0</th>\n",
       "      <td>0.865108</td>\n",
       "      <td>-0.033518</td>\n",
       "      <td>0.670643</td>\n",
       "      <td>-0.181541</td>\n",
       "      <td>0.166619</td>\n",
       "      <td>0.468492</td>\n",
       "      <td>Medium</td>\n",
       "      <td>Young</td>\n",
       "    </tr>\n",
       "    <tr>\n",
       "      <th>1</th>\n",
       "      <td>-1.206162</td>\n",
       "      <td>-0.529859</td>\n",
       "      <td>-0.012301</td>\n",
       "      <td>-0.181541</td>\n",
       "      <td>-0.852200</td>\n",
       "      <td>-0.365061</td>\n",
       "      <td>Small</td>\n",
       "      <td>Young</td>\n",
       "    </tr>\n",
       "    <tr>\n",
       "      <th>2</th>\n",
       "      <td>2.015813</td>\n",
       "      <td>-0.695306</td>\n",
       "      <td>-0.012301</td>\n",
       "      <td>-0.181541</td>\n",
       "      <td>-1.332500</td>\n",
       "      <td>0.604397</td>\n",
       "      <td>Medium</td>\n",
       "      <td>Young</td>\n",
       "    </tr>\n",
       "    <tr>\n",
       "      <th>3</th>\n",
       "      <td>-1.074652</td>\n",
       "      <td>-0.529859</td>\n",
       "      <td>-0.695245</td>\n",
       "      <td>-0.540642</td>\n",
       "      <td>-0.633881</td>\n",
       "      <td>-0.920763</td>\n",
       "      <td>Small</td>\n",
       "      <td>Young</td>\n",
       "    </tr>\n",
       "    <tr>\n",
       "      <th>4</th>\n",
       "      <td>0.503458</td>\n",
       "      <td>-2.680669</td>\n",
       "      <td>0.670643</td>\n",
       "      <td>0.316566</td>\n",
       "      <td>1.549303</td>\n",
       "      <td>5.484909</td>\n",
       "      <td>Small</td>\n",
       "      <td>Young</td>\n",
       "    </tr>\n",
       "  </tbody>\n",
       "</table>\n",
       "</div>"
      ],
      "text/plain": [
       "    Glucose  BloodPressure  SkinThickness   Insulin       BMI  \\\n",
       "0  0.865108      -0.033518       0.670643 -0.181541  0.166619   \n",
       "1 -1.206162      -0.529859      -0.012301 -0.181541 -0.852200   \n",
       "2  2.015813      -0.695306      -0.012301 -0.181541 -1.332500   \n",
       "3 -1.074652      -0.529859      -0.695245 -0.540642 -0.633881   \n",
       "4  0.503458      -2.680669       0.670643  0.316566  1.549303   \n",
       "\n",
       "   DiabetesPedigreeFunction Pregnancies    Age  \n",
       "0                  0.468492      Medium  Young  \n",
       "1                 -0.365061       Small  Young  \n",
       "2                  0.604397      Medium  Young  \n",
       "3                 -0.920763       Small  Young  \n",
       "4                  5.484909       Small  Young  "
      ]
     },
     "execution_count": 57,
     "metadata": {},
     "output_type": "execute_result"
    }
   ],
   "source": [
    "X.head()"
   ]
  },
  {
   "cell_type": "code",
   "execution_count": 58,
   "metadata": {},
   "outputs": [],
   "source": [
    "Y = dataset['Outcome']  # dataset.iloc[:,-1]"
   ]
  },
  {
   "cell_type": "code",
   "execution_count": 59,
   "metadata": {},
   "outputs": [
    {
     "data": {
      "text/plain": [
       "((614, 8), (154, 8), (614,), (154,))"
      ]
     },
     "execution_count": 59,
     "metadata": {},
     "output_type": "execute_result"
    }
   ],
   "source": [
    "X_train,X_test,Y_train,Y_test = train_test_split(X,Y,test_size = 0.2,random_state = 0)\n",
    "X_train.shape,X_test.shape,Y_train.shape,Y_test.shape,"
   ]
  },
  {
   "cell_type": "markdown",
   "metadata": {},
   "source": [
    "### Computing probabilities"
   ]
  },
  {
   "cell_type": "code",
   "execution_count": 137,
   "metadata": {},
   "outputs": [],
   "source": [
    "df_train = X_train \n",
    "df_train['Outcome'] = Y_train # data frame corresponding to the training data set plus the output label\n",
    "# Number of positive/negative diabete diagnosis in the training data set \n",
    "total_positive = Y_train.value_counts()[1]\n",
    "total_negative = Y_train.value_counts()[0]\n",
    "total_Outcome = Y_train.count()\n",
    "prob_positive = total_positive/total_Outcome\n",
    "prob_negative = total_negative/total_Outcome"
   ]
  },
  {
   "cell_type": "markdown",
   "metadata": {},
   "source": [
    "#### Compute probabilities for discrete features (Age and Pregnancies)"
   ]
  },
  {
   "cell_type": "code",
   "execution_count": 61,
   "metadata": {},
   "outputs": [],
   "source": [
    "####################### Age #########################################\n",
    "total_young = df_train['Age'].value_counts()[0]\n",
    "total_Old = df_train['Age'].value_counts()[1]\n",
    "\n",
    "young_and_positive = df_train[(df_train['Age'] =='Young') & (df_train['Outcome']== 1)].shape[0] # Total number of young people diagnosed with diabete\n",
    "young_and_negative = df_train[(df_train['Age'] =='Young') & (df_train['Outcome']== 0)].shape[0] # Total number of young people not diagnosed with diabete\n",
    "\n",
    "old_and_positive = df_train[(df_train['Age'] =='Old') & (df_train['Outcome']== 1)].shape[0]\n",
    "old_and_negative = df_train[(df_train['Age'] =='Old') & (df_train['Outcome']== 0)].shape[0]\n",
    "\n"
   ]
  },
  {
   "cell_type": "code",
   "execution_count": 62,
   "metadata": {},
   "outputs": [
    {
     "data": {
      "text/html": [
       "<div>\n",
       "<style scoped>\n",
       "    .dataframe tbody tr th:only-of-type {\n",
       "        vertical-align: middle;\n",
       "    }\n",
       "\n",
       "    .dataframe tbody tr th {\n",
       "        vertical-align: top;\n",
       "    }\n",
       "\n",
       "    .dataframe thead th {\n",
       "        text-align: right;\n",
       "    }\n",
       "</style>\n",
       "<table border=\"1\" class=\"dataframe\">\n",
       "  <thead>\n",
       "    <tr style=\"text-align: right;\">\n",
       "      <th></th>\n",
       "      <th>Conditional probability</th>\n",
       "      <th>value</th>\n",
       "    </tr>\n",
       "  </thead>\n",
       "  <tbody>\n",
       "    <tr>\n",
       "      <th>0</th>\n",
       "      <td>P(Age=Young|Outcome =1)</td>\n",
       "      <td>0.868778</td>\n",
       "    </tr>\n",
       "    <tr>\n",
       "      <th>1</th>\n",
       "      <td>P(Age=Young|Outcome =0)</td>\n",
       "      <td>0.913486</td>\n",
       "    </tr>\n",
       "    <tr>\n",
       "      <th>2</th>\n",
       "      <td>P(Age=Old|Outcome =1)</td>\n",
       "      <td>0.131222</td>\n",
       "    </tr>\n",
       "    <tr>\n",
       "      <th>3</th>\n",
       "      <td>P(Age=Old|Outcome =0)</td>\n",
       "      <td>0.086514</td>\n",
       "    </tr>\n",
       "  </tbody>\n",
       "</table>\n",
       "</div>"
      ],
      "text/plain": [
       "   Conditional probability     value\n",
       "0  P(Age=Young|Outcome =1)  0.868778\n",
       "1  P(Age=Young|Outcome =0)  0.913486\n",
       "2    P(Age=Old|Outcome =1)  0.131222\n",
       "3    P(Age=Old|Outcome =0)  0.086514"
      ]
     },
     "execution_count": 62,
     "metadata": {},
     "output_type": "execute_result"
    }
   ],
   "source": [
    "probTable_age = pd.DataFrame()\n",
    "probTable_age['Conditional probability'] = ['P(Age=Young|Outcome =1)','P(Age=Young|Outcome =0)','P(Age=Old|Outcome =1)','P(Age=Old|Outcome =0)']\n",
    "probTable_age['value']= [young_and_positive/total_positive, young_and_negative/total_negative, old_and_positive/total_positive, old_and_negative/total_negative]\n",
    "probTable_age"
   ]
  },
  {
   "cell_type": "code",
   "execution_count": 63,
   "metadata": {},
   "outputs": [
    {
     "data": {
      "image/png": "[encoded data removed]",
      "text/plain": [
       "<Figure size 1080x576 with 1 Axes>"
      ]
     },
     "metadata": {},
     "output_type": "display_data"
    }
   ],
   "source": [
    "plt.figure(figsize=(15,8))\n",
    "ax1 = sns.barplot(x=\"Conditional probability\", y=\"value\", data=probTable_age)"
   ]
  },
  {
   "cell_type": "code",
   "execution_count": 64,
   "metadata": {},
   "outputs": [],
   "source": [
    "####################### Pregnancies #########################################\n",
    "total_small = df_train['Pregnancies'].value_counts()[0]\n",
    "total_medium = df_train['Pregnancies'].value_counts()[1]\n",
    "total_large = df_train['Pregnancies'].value_counts()[2]\n",
    "\n",
    "small_and_positive = df_train[(df_train['Pregnancies'] =='Small') & (df_train['Outcome']== 1)].shape[0]\n",
    "small_and_negative = df_train[(df_train['Pregnancies'] =='Small') & (df_train['Outcome']== 0)].shape[0]\n",
    "\n",
    "medium_and_positive = df_train[(df_train['Pregnancies'] =='Medium') & (df_train['Outcome']== 1)].shape[0]\n",
    "medium_and_negative = df_train[(df_train['Pregnancies'] =='Medium') & (df_train['Outcome']== 0)].shape[0]\n",
    "\n",
    "large_and_positive = df_train[(df_train['Pregnancies'] =='Large') & (df_train['Outcome']== 1)].shape[0]\n",
    "large_and_negative = df_train[(df_train['Pregnancies'] =='Large') & (df_train['Outcome']== 0)].shape[0]\n",
    "\n"
   ]
  },
  {
   "cell_type": "code",
   "execution_count": 65,
   "metadata": {},
   "outputs": [
    {
     "data": {
      "text/html": [
       "<div>\n",
       "<style scoped>\n",
       "    .dataframe tbody tr th:only-of-type {\n",
       "        vertical-align: middle;\n",
       "    }\n",
       "\n",
       "    .dataframe tbody tr th {\n",
       "        vertical-align: top;\n",
       "    }\n",
       "\n",
       "    .dataframe thead th {\n",
       "        text-align: right;\n",
       "    }\n",
       "</style>\n",
       "<table border=\"1\" class=\"dataframe\">\n",
       "  <thead>\n",
       "    <tr style=\"text-align: right;\">\n",
       "      <th></th>\n",
       "      <th>Conditional probability</th>\n",
       "      <th>value</th>\n",
       "    </tr>\n",
       "  </thead>\n",
       "  <tbody>\n",
       "    <tr>\n",
       "      <th>0</th>\n",
       "      <td>P(Pregnancies=Small|Outcome =1)</td>\n",
       "      <td>0.583710</td>\n",
       "    </tr>\n",
       "    <tr>\n",
       "      <th>1</th>\n",
       "      <td>P(Pregnancies=Small|Outcome =0)</td>\n",
       "      <td>0.773537</td>\n",
       "    </tr>\n",
       "    <tr>\n",
       "      <th>2</th>\n",
       "      <td>P(Pregnancies=Medium|Outcome =1)</td>\n",
       "      <td>0.361991</td>\n",
       "    </tr>\n",
       "    <tr>\n",
       "      <th>3</th>\n",
       "      <td>P(Pregnancies=Medium|Outcome =0)</td>\n",
       "      <td>0.206107</td>\n",
       "    </tr>\n",
       "    <tr>\n",
       "      <th>4</th>\n",
       "      <td>P(Pregnancies=Large|Outcome =1)</td>\n",
       "      <td>0.054299</td>\n",
       "    </tr>\n",
       "    <tr>\n",
       "      <th>5</th>\n",
       "      <td>P(Pregnancies=Large|Outcome =0)</td>\n",
       "      <td>0.020356</td>\n",
       "    </tr>\n",
       "  </tbody>\n",
       "</table>\n",
       "</div>"
      ],
      "text/plain": [
       "            Conditional probability     value\n",
       "0   P(Pregnancies=Small|Outcome =1)  0.583710\n",
       "1   P(Pregnancies=Small|Outcome =0)  0.773537\n",
       "2  P(Pregnancies=Medium|Outcome =1)  0.361991\n",
       "3  P(Pregnancies=Medium|Outcome =0)  0.206107\n",
       "4   P(Pregnancies=Large|Outcome =1)  0.054299\n",
       "5   P(Pregnancies=Large|Outcome =0)  0.020356"
      ]
     },
     "execution_count": 65,
     "metadata": {},
     "output_type": "execute_result"
    }
   ],
   "source": [
    "probTable_pregnancies = pd.DataFrame()\n",
    "probTable_pregnancies['Conditional probability'] = ['P(Pregnancies=Small|Outcome =1)','P(Pregnancies=Small|Outcome =0)','P(Pregnancies=Medium|Outcome =1)','P(Pregnancies=Medium|Outcome =0)','P(Pregnancies=Large|Outcome =1)','P(Pregnancies=Large|Outcome =0)']\n",
    "probTable_pregnancies['value']= [small_and_positive/total_positive, small_and_negative/total_negative, medium_and_positive/total_positive, medium_and_negative/total_negative, large_and_positive/total_positive, large_and_negative/total_negative]\n",
    "probTable_pregnancies"
   ]
  },
  {
   "cell_type": "code",
   "execution_count": 123,
   "metadata": {},
   "outputs": [
    {
     "data": {
      "text/plain": [
       "0.36199095022624433"
      ]
     },
     "execution_count": 123,
     "metadata": {},
     "output_type": "execute_result"
    }
   ],
   "source": []
  },
  {
   "cell_type": "code",
   "execution_count": 66,
   "metadata": {},
   "outputs": [
    {
     "data": {
      "image/png": "[encoded data removed]",
      "text/plain": [
       "<Figure size 1800x1080 with 1 Axes>"
      ]
     },
     "metadata": {},
     "output_type": "display_data"
    }
   ],
   "source": [
    "plt.figure(figsize=(25,15))\n",
    "ax1 = sns.barplot(x=\"Conditional probability\", y=\"value\", data=probTable_pregnancies)"
   ]
  },
  {
   "cell_type": "markdown",
   "metadata": {},
   "source": [
    "#### Compute probabilities for continuous features\n",
    "For these continuous features, we assume that each term in the likelihood is a normal probability density function.\n",
    "\n",
    "## $P(xi|c) = \\frac{1}{(2*\\pi*sigma\\text{_xi_c})^\\frac{1}{2}}*\\exp(-\\frac{(xi - mean\\text{_xi_c})^2}{2*sigma\\text{_xi_c}^2})$\n"
   ]
  },
  {
   "cell_type": "code",
   "execution_count": 67,
   "metadata": {},
   "outputs": [],
   "source": [
    "# Function to calculate the likelihood P(fetures|Outcome)\n",
    "def density(x, variance_xy, mean_xy):\n",
    "    dens = (1/(np.sqrt(2*np.pi*variance_xy))) * np.exp((-(x-mean_xy)**2)/(2*variance_xy))\n",
    "    return dens\n",
    "    "
   ]
  },
  {
   "cell_type": "code",
   "execution_count": 68,
   "metadata": {},
   "outputs": [],
   "source": [
    "# Calculate mean and variance for each feature in the training data set\n",
    "df_mean = df_train.groupby('Outcome').mean() # mean for each feature grouped by 'Outcome' in the data set \n",
    "df_variance = df_train.groupby('Outcome').var()"
   ]
  },
  {
   "cell_type": "code",
   "execution_count": 69,
   "metadata": {},
   "outputs": [
    {
     "data": {
      "text/html": [
       "<div>\n",
       "<style scoped>\n",
       "    .dataframe tbody tr th:only-of-type {\n",
       "        vertical-align: middle;\n",
       "    }\n",
       "\n",
       "    .dataframe tbody tr th {\n",
       "        vertical-align: top;\n",
       "    }\n",
       "\n",
       "    .dataframe thead th {\n",
       "        text-align: right;\n",
       "    }\n",
       "</style>\n",
       "<table border=\"1\" class=\"dataframe\">\n",
       "  <thead>\n",
       "    <tr style=\"text-align: right;\">\n",
       "      <th></th>\n",
       "      <th>Glucose</th>\n",
       "      <th>BloodPressure</th>\n",
       "      <th>SkinThickness</th>\n",
       "      <th>Insulin</th>\n",
       "      <th>BMI</th>\n",
       "      <th>DiabetesPedigreeFunction</th>\n",
       "    </tr>\n",
       "    <tr>\n",
       "      <th>Outcome</th>\n",
       "      <th></th>\n",
       "      <th></th>\n",
       "      <th></th>\n",
       "      <th></th>\n",
       "      <th></th>\n",
       "      <th></th>\n",
       "    </tr>\n",
       "  </thead>\n",
       "  <tbody>\n",
       "    <tr>\n",
       "      <th>0</th>\n",
       "      <td>-0.365542</td>\n",
       "      <td>-0.088987</td>\n",
       "      <td>-0.129022</td>\n",
       "      <td>-0.129753</td>\n",
       "      <td>-0.214688</td>\n",
       "      <td>-0.139482</td>\n",
       "    </tr>\n",
       "    <tr>\n",
       "      <th>1</th>\n",
       "      <td>0.650197</td>\n",
       "      <td>0.213629</td>\n",
       "      <td>0.264791</td>\n",
       "      <td>0.273166</td>\n",
       "      <td>0.451454</td>\n",
       "      <td>0.202681</td>\n",
       "    </tr>\n",
       "  </tbody>\n",
       "</table>\n",
       "</div>"
      ],
      "text/plain": [
       "          Glucose  BloodPressure  SkinThickness   Insulin       BMI  \\\n",
       "Outcome                                                               \n",
       "0       -0.365542      -0.088987      -0.129022 -0.129753 -0.214688   \n",
       "1        0.650197       0.213629       0.264791  0.273166  0.451454   \n",
       "\n",
       "         DiabetesPedigreeFunction  \n",
       "Outcome                            \n",
       "0                       -0.139482  \n",
       "1                        0.202681  "
      ]
     },
     "execution_count": 69,
     "metadata": {},
     "output_type": "execute_result"
    }
   ],
   "source": [
    "df_mean"
   ]
  },
  {
   "cell_type": "code",
   "execution_count": 70,
   "metadata": {},
   "outputs": [
    {
     "data": {
      "text/html": [
       "<div>\n",
       "<style scoped>\n",
       "    .dataframe tbody tr th:only-of-type {\n",
       "        vertical-align: middle;\n",
       "    }\n",
       "\n",
       "    .dataframe tbody tr th {\n",
       "        vertical-align: top;\n",
       "    }\n",
       "\n",
       "    .dataframe thead th {\n",
       "        text-align: right;\n",
       "    }\n",
       "</style>\n",
       "<table border=\"1\" class=\"dataframe\">\n",
       "  <thead>\n",
       "    <tr style=\"text-align: right;\">\n",
       "      <th></th>\n",
       "      <th>Glucose</th>\n",
       "      <th>BloodPressure</th>\n",
       "      <th>SkinThickness</th>\n",
       "      <th>Insulin</th>\n",
       "      <th>BMI</th>\n",
       "      <th>DiabetesPedigreeFunction</th>\n",
       "      <th>Pregnancies</th>\n",
       "      <th>Age</th>\n",
       "      <th>Outcome</th>\n",
       "    </tr>\n",
       "  </thead>\n",
       "  <tbody>\n",
       "    <tr>\n",
       "      <th>603</th>\n",
       "      <td>0.930863</td>\n",
       "      <td>4.628226e-01</td>\n",
       "      <td>-0.012301</td>\n",
       "      <td>-0.169957</td>\n",
       "      <td>0.399492</td>\n",
       "      <td>0.664800</td>\n",
       "      <td>Medium</td>\n",
       "      <td>Old</td>\n",
       "      <td>1</td>\n",
       "    </tr>\n",
       "    <tr>\n",
       "      <th>118</th>\n",
       "      <td>-0.811634</td>\n",
       "      <td>-1.026200e+00</td>\n",
       "      <td>-0.695245</td>\n",
       "      <td>-0.181541</td>\n",
       "      <td>-0.619327</td>\n",
       "      <td>-0.087210</td>\n",
       "      <td>Small</td>\n",
       "      <td>Young</td>\n",
       "      <td>0</td>\n",
       "    </tr>\n",
       "    <tr>\n",
       "      <th>247</th>\n",
       "      <td>1.424022</td>\n",
       "      <td>1.455504e+00</td>\n",
       "      <td>0.442995</td>\n",
       "      <td>6.247517</td>\n",
       "      <td>2.888322</td>\n",
       "      <td>-0.135532</td>\n",
       "      <td>Small</td>\n",
       "      <td>Young</td>\n",
       "      <td>0</td>\n",
       "    </tr>\n",
       "    <tr>\n",
       "      <th>157</th>\n",
       "      <td>-0.417106</td>\n",
       "      <td>-1.357094e+00</td>\n",
       "      <td>-0.922893</td>\n",
       "      <td>-0.065702</td>\n",
       "      <td>-1.055964</td>\n",
       "      <td>1.090636</td>\n",
       "      <td>Small</td>\n",
       "      <td>Young</td>\n",
       "      <td>0</td>\n",
       "    </tr>\n",
       "    <tr>\n",
       "      <th>468</th>\n",
       "      <td>-0.055456</td>\n",
       "      <td>1.175571e-15</td>\n",
       "      <td>-0.012301</td>\n",
       "      <td>-0.181541</td>\n",
       "      <td>-0.357345</td>\n",
       "      <td>-0.872441</td>\n",
       "      <td>Medium</td>\n",
       "      <td>Young</td>\n",
       "      <td>1</td>\n",
       "    </tr>\n",
       "  </tbody>\n",
       "</table>\n",
       "</div>"
      ],
      "text/plain": [
       "      Glucose  BloodPressure  SkinThickness   Insulin       BMI  \\\n",
       "603  0.930863   4.628226e-01      -0.012301 -0.169957  0.399492   \n",
       "118 -0.811634  -1.026200e+00      -0.695245 -0.181541 -0.619327   \n",
       "247  1.424022   1.455504e+00       0.442995  6.247517  2.888322   \n",
       "157 -0.417106  -1.357094e+00      -0.922893 -0.065702 -1.055964   \n",
       "468 -0.055456   1.175571e-15      -0.012301 -0.181541 -0.357345   \n",
       "\n",
       "     DiabetesPedigreeFunction Pregnancies    Age  Outcome  \n",
       "603                  0.664800      Medium    Old        1  \n",
       "118                 -0.087210       Small  Young        0  \n",
       "247                 -0.135532       Small  Young        0  \n",
       "157                  1.090636       Small  Young        0  \n",
       "468                 -0.872441      Medium  Young        1  "
      ]
     },
     "execution_count": 70,
     "metadata": {},
     "output_type": "execute_result"
    }
   ],
   "source": [
    "df_variance\n",
    "df_train.head()"
   ]
  },
  {
   "cell_type": "code",
   "execution_count": 71,
   "metadata": {},
   "outputs": [],
   "source": [
    "# Creating variables for clearance when calculating P(feature|Outcome) via the normal distribution function\n",
    "############################ Means ######################################\n",
    "# Positive diagnosis\n",
    "glucose_positive_mean = df_mean['Glucose'][df_mean.index == 1].values[0]\n",
    "bloodpressure_positive_mean = df_mean['BloodPressure'][df_mean.index == 1].values[0]\n",
    "skinthinckness_positive_mean = df_mean['SkinThickness'][df_mean.index == 1].values[0]\n",
    "insulin_positive_mean = df_mean['Insulin'][df_mean.index == 1].values[0]\n",
    "bmi_positive_mean = df_mean['BMI'][df_mean.index == 1].values[0]\n",
    "diabetePedigree_positive_mean = df_mean['DiabetesPedigreeFunction'][df_mean.index == 1].values[0]\n",
    "# Negative diagnosis\n",
    "glucose_negative_mean = df_mean['Glucose'][df_mean.index == 0].values[0]\n",
    "bloodpressure_negative_mean = df_mean['BloodPressure'][df_mean.index == 0].values[0]\n",
    "skinthinckness_negative_mean = df_mean['SkinThickness'][df_mean.index == 0].values[0]\n",
    "insulin_negative_mean = df_mean['Insulin'][df_mean.index == 0].values[0]\n",
    "bmi_negative_mean = df_mean['BMI'][df_mean.index == 1].values[0]\n",
    "diabetePedigree_negative_mean = df_mean['DiabetesPedigreeFunction'][df_mean.index == 0].values[0]\n",
    "\n",
    "######################### Variance #######################################\n",
    "# Positive diagnosis\n",
    "glucose_positive_variance = df_variance['Glucose'][df_mean.index == 1].values[0]\n",
    "bloodpressure_positive_variance = df_variance['BloodPressure'][df_mean.index == 1].values[0]\n",
    "skinthinckness_positive_variance = df_variance['SkinThickness'][df_mean.index == 1].values[0]\n",
    "insulin_positive_variance = df_variance['Insulin'][df_mean.index == 1].values[0]\n",
    "bmi_positive_variance = df_variance['BMI'][df_mean.index == 1].values[0]\n",
    "diabetePedigree_positive_variance = df_variance['DiabetesPedigreeFunction'][df_mean.index == 1].values[0]\n",
    "# Negative diagnosis\n",
    "glucose_negative_variance = df_variance['Glucose'][df_mean.index == 0].values[0]\n",
    "bloodpressure_negative_variance = df_variance['BloodPressure'][df_mean.index == 0].values[0]\n",
    "skinthinckness_negative_variance = df_variance['SkinThickness'][df_mean.index == 0].values[0]\n",
    "insulin_negative_variance = df_variance['Insulin'][df_mean.index == 0].values[0]\n",
    "bmi_negative_variance = df_variance['BMI'][df_mean.index == 1].values[0]\n",
    "diabetePedigree_negative_variance = df_variance['DiabetesPedigreeFunction'][df_mean.index == 0].values[0]"
   ]
  },
  {
   "cell_type": "code",
   "execution_count": 72,
   "metadata": {},
   "outputs": [
    {
     "data": {
      "text/html": [
       "<div>\n",
       "<style scoped>\n",
       "    .dataframe tbody tr th:only-of-type {\n",
       "        vertical-align: middle;\n",
       "    }\n",
       "\n",
       "    .dataframe tbody tr th {\n",
       "        vertical-align: top;\n",
       "    }\n",
       "\n",
       "    .dataframe thead th {\n",
       "        text-align: right;\n",
       "    }\n",
       "</style>\n",
       "<table border=\"1\" class=\"dataframe\">\n",
       "  <thead>\n",
       "    <tr style=\"text-align: right;\">\n",
       "      <th></th>\n",
       "      <th>Glucose</th>\n",
       "      <th>BloodPressure</th>\n",
       "      <th>SkinThickness</th>\n",
       "      <th>Insulin</th>\n",
       "      <th>BMI</th>\n",
       "      <th>DiabetesPedigreeFunction</th>\n",
       "      <th>Outcome</th>\n",
       "    </tr>\n",
       "  </thead>\n",
       "  <tbody>\n",
       "    <tr>\n",
       "      <th>603</th>\n",
       "      <td>0.930863</td>\n",
       "      <td>4.628226e-01</td>\n",
       "      <td>-0.012301</td>\n",
       "      <td>-0.169957</td>\n",
       "      <td>0.399492</td>\n",
       "      <td>0.664800</td>\n",
       "      <td>1</td>\n",
       "    </tr>\n",
       "    <tr>\n",
       "      <th>118</th>\n",
       "      <td>-0.811634</td>\n",
       "      <td>-1.026200e+00</td>\n",
       "      <td>-0.695245</td>\n",
       "      <td>-0.181541</td>\n",
       "      <td>-0.619327</td>\n",
       "      <td>-0.087210</td>\n",
       "      <td>0</td>\n",
       "    </tr>\n",
       "    <tr>\n",
       "      <th>247</th>\n",
       "      <td>1.424022</td>\n",
       "      <td>1.455504e+00</td>\n",
       "      <td>0.442995</td>\n",
       "      <td>6.247517</td>\n",
       "      <td>2.888322</td>\n",
       "      <td>-0.135532</td>\n",
       "      <td>0</td>\n",
       "    </tr>\n",
       "    <tr>\n",
       "      <th>157</th>\n",
       "      <td>-0.417106</td>\n",
       "      <td>-1.357094e+00</td>\n",
       "      <td>-0.922893</td>\n",
       "      <td>-0.065702</td>\n",
       "      <td>-1.055964</td>\n",
       "      <td>1.090636</td>\n",
       "      <td>0</td>\n",
       "    </tr>\n",
       "    <tr>\n",
       "      <th>468</th>\n",
       "      <td>-0.055456</td>\n",
       "      <td>1.175571e-15</td>\n",
       "      <td>-0.012301</td>\n",
       "      <td>-0.181541</td>\n",
       "      <td>-0.357345</td>\n",
       "      <td>-0.872441</td>\n",
       "      <td>1</td>\n",
       "    </tr>\n",
       "  </tbody>\n",
       "</table>\n",
       "</div>"
      ],
      "text/plain": [
       "      Glucose  BloodPressure  SkinThickness   Insulin       BMI  \\\n",
       "603  0.930863   4.628226e-01      -0.012301 -0.169957  0.399492   \n",
       "118 -0.811634  -1.026200e+00      -0.695245 -0.181541 -0.619327   \n",
       "247  1.424022   1.455504e+00       0.442995  6.247517  2.888322   \n",
       "157 -0.417106  -1.357094e+00      -0.922893 -0.065702 -1.055964   \n",
       "468 -0.055456   1.175571e-15      -0.012301 -0.181541 -0.357345   \n",
       "\n",
       "     DiabetesPedigreeFunction  Outcome  \n",
       "603                  0.664800        1  \n",
       "118                 -0.087210        0  \n",
       "247                 -0.135532        0  \n",
       "157                  1.090636        0  \n",
       "468                 -0.872441        1  "
      ]
     },
     "execution_count": 72,
     "metadata": {},
     "output_type": "execute_result"
    }
   ],
   "source": [
    "df_density = df_train.drop(columns =['Age','Pregnancies']) # a data frame for calculating probability densities\n",
    "df_density.head()"
   ]
  },
  {
   "cell_type": "code",
   "execution_count": 73,
   "metadata": {},
   "outputs": [],
   "source": [
    "# Density for each feature\n",
    "df_density['Glucose'][df_density['Outcome']==1] = df_density['Glucose'][df_density['Outcome']==1].apply(density, args = [glucose_positive_variance, glucose_positive_mean ])\n",
    "df_density['Glucose'][df_density['Outcome']==0] = df_density['Glucose'][df_density['Outcome']==0].apply(density, args = [glucose_negative_variance, glucose_negative_mean ])\n",
    "\n",
    "df_density['BloodPressure'][df_density['Outcome']==1] = df_density['BloodPressure'][df_density['Outcome']==1].apply(density, args = [bloodpressure_positive_variance, bloodpressure_positive_mean])\n",
    "df_density['BloodPressure'][df_density['Outcome']==0] = df_density['BloodPressure'][df_density['Outcome']==0].apply(density, args = [bloodpressure_negative_variance, bloodpressure_negative_mean])\n",
    "\n",
    "df_density['SkinThickness'][df_density['Outcome']==1] = df_density['SkinThickness'][df_density['Outcome']==1].apply(density, args = [skinthinckness_positive_variance, skinthinckness_positive_mean])\n",
    "df_density['SkinThickness'][df_density['Outcome']==0] = df_density['SkinThickness'][df_density['Outcome']==0].apply(density, args = [skinthinckness_negative_variance, skinthinckness_negative_mean])\n",
    "\n",
    "df_density['Insulin'][df_density['Outcome']==1] = df_density['Insulin'][df_density['Outcome']==1].apply(density, args = [insulin_positive_variance, insulin_positive_mean])\n",
    "df_density['Insulin'][df_density['Outcome']==0] = df_density['Insulin'][df_density['Outcome']==0].apply(density, args = [insulin_negative_variance, insulin_negative_mean])\n",
    "\n",
    "df_density['BMI'][df_density['Outcome']==1] = df_density['BMI'][df_density['Outcome']==1].apply(density, args = [bmi_positive_variance, bmi_positive_mean])\n",
    "df_density['BMI'][df_density['Outcome']==0] = df_density['BMI'][df_density['Outcome']==0].apply(density, args = [bmi_negative_variance, bmi_negative_mean])\n",
    "\n",
    "df_density['DiabetesPedigreeFunction'][df_density['Outcome']==1] = df_density['DiabetesPedigreeFunction'][df_density['Outcome']==1].apply(density, args = [diabetePedigree_positive_variance, diabetePedigree_positive_mean])\n",
    "df_density['DiabetesPedigreeFunction'][df_density['Outcome']==0] = df_density['DiabetesPedigreeFunction'][df_density['Outcome']==0].apply(density, args = [diabetePedigree_negative_variance, diabetePedigree_negative_mean])"
   ]
  },
  {
   "cell_type": "code",
   "execution_count": 74,
   "metadata": {},
   "outputs": [
    {
     "data": {
      "text/html": [
       "<div>\n",
       "<style scoped>\n",
       "    .dataframe tbody tr th:only-of-type {\n",
       "        vertical-align: middle;\n",
       "    }\n",
       "\n",
       "    .dataframe tbody tr th {\n",
       "        vertical-align: top;\n",
       "    }\n",
       "\n",
       "    .dataframe thead th {\n",
       "        text-align: right;\n",
       "    }\n",
       "</style>\n",
       "<table border=\"1\" class=\"dataframe\">\n",
       "  <thead>\n",
       "    <tr style=\"text-align: right;\">\n",
       "      <th></th>\n",
       "      <th>Glucose</th>\n",
       "      <th>BloodPressure</th>\n",
       "      <th>SkinThickness</th>\n",
       "      <th>Insulin</th>\n",
       "      <th>BMI</th>\n",
       "      <th>DiabetesPedigreeFunction</th>\n",
       "      <th>Outcome</th>\n",
       "    </tr>\n",
       "  </thead>\n",
       "  <tbody>\n",
       "    <tr>\n",
       "      <th>603</th>\n",
       "      <td>0.396143</td>\n",
       "      <td>0.378331</td>\n",
       "      <td>0.375481</td>\n",
       "      <td>3.191772e-01</td>\n",
       "      <td>0.408067</td>\n",
       "      <td>0.323025</td>\n",
       "      <td>1</td>\n",
       "    </tr>\n",
       "    <tr>\n",
       "      <th>118</th>\n",
       "      <td>0.423975</td>\n",
       "      <td>0.258026</td>\n",
       "      <td>0.346976</td>\n",
       "      <td>4.364342e-01</td>\n",
       "      <td>0.223930</td>\n",
       "      <td>0.440997</td>\n",
       "      <td>0</td>\n",
       "    </tr>\n",
       "    <tr>\n",
       "      <th>247</th>\n",
       "      <td>0.042476</td>\n",
       "      <td>0.114037</td>\n",
       "      <td>0.345761</td>\n",
       "      <td>1.089803e-11</td>\n",
       "      <td>0.018129</td>\n",
       "      <td>0.441732</td>\n",
       "      <td>0</td>\n",
       "    </tr>\n",
       "    <tr>\n",
       "      <th>157</th>\n",
       "      <td>0.492784</td>\n",
       "      <td>0.173763</td>\n",
       "      <td>0.294284</td>\n",
       "      <td>4.360622e-01</td>\n",
       "      <td>0.124059</td>\n",
       "      <td>0.174704</td>\n",
       "      <td>0</td>\n",
       "    </tr>\n",
       "    <tr>\n",
       "      <th>468</th>\n",
       "      <td>0.316364</td>\n",
       "      <td>0.381314</td>\n",
       "      <td>0.375481</td>\n",
       "      <td>3.179509e-01</td>\n",
       "      <td>0.289938</td>\n",
       "      <td>0.224383</td>\n",
       "      <td>1</td>\n",
       "    </tr>\n",
       "  </tbody>\n",
       "</table>\n",
       "</div>"
      ],
      "text/plain": [
       "      Glucose  BloodPressure  SkinThickness       Insulin       BMI  \\\n",
       "603  0.396143       0.378331       0.375481  3.191772e-01  0.408067   \n",
       "118  0.423975       0.258026       0.346976  4.364342e-01  0.223930   \n",
       "247  0.042476       0.114037       0.345761  1.089803e-11  0.018129   \n",
       "157  0.492784       0.173763       0.294284  4.360622e-01  0.124059   \n",
       "468  0.316364       0.381314       0.375481  3.179509e-01  0.289938   \n",
       "\n",
       "     DiabetesPedigreeFunction  Outcome  \n",
       "603                  0.323025        1  \n",
       "118                  0.440997        0  \n",
       "247                  0.441732        0  \n",
       "157                  0.174704        0  \n",
       "468                  0.224383        1  "
      ]
     },
     "execution_count": 74,
     "metadata": {},
     "output_type": "execute_result"
    }
   ],
   "source": [
    "df_density.head()"
   ]
  },
  {
   "cell_type": "markdown",
   "metadata": {},
   "source": [
    "#### Visualization of conditional probability for continuous features"
   ]
  },
  {
   "cell_type": "code",
   "execution_count": 75,
   "metadata": {},
   "outputs": [
    {
     "data": {
      "image/png": "[encoded data removed]",
      "text/plain": [
       "<Figure size 432x288 with 2 Axes>"
      ]
     },
     "metadata": {},
     "output_type": "display_data"
    }
   ],
   "source": [
    "fig, axs = plt.subplots(ncols=2)\n",
    "fig = sns.distplot(df_density['Glucose'][df_density['Outcome']==1], ax=axs[0]).set_xlabel(\"P(Glucose|Outcome=1)\")\n",
    "fig = sns.distplot(df_density['Glucose'][df_density['Outcome']==0], ax=axs[1]).set_xlabel(\"P(Glucose|Outcome=0)\")"
   ]
  },
  {
   "cell_type": "code",
   "execution_count": 76,
   "metadata": {},
   "outputs": [
    {
     "data": {
      "image/png": "[encoded data removed]",
      "text/plain": [
       "<Figure size 432x288 with 2 Axes>"
      ]
     },
     "metadata": {},
     "output_type": "display_data"
    }
   ],
   "source": [
    "fig, axs = plt.subplots(ncols=2)\n",
    "fig = sns.distplot(df_density['BloodPressure'][df_density['Outcome']==1], ax=axs[0]).set_xlabel(\"P(BloodPressure|Outcome=1)\")\n",
    "fig = sns.distplot(df_density['BloodPressure'][df_density['Outcome']==0], ax=axs[1]).set_xlabel(\"P(BloodPressure|Outcome=0)\")"
   ]
  },
  {
   "cell_type": "code",
   "execution_count": 77,
   "metadata": {},
   "outputs": [
    {
     "data": {
      "image/png": "[encoded data removed]",
      "text/plain": [
       "<Figure size 432x288 with 2 Axes>"
      ]
     },
     "metadata": {},
     "output_type": "display_data"
    }
   ],
   "source": [
    "fig, axs = plt.subplots(ncols=2)\n",
    "fig = sns.distplot(df_density['SkinThickness'][df_density['Outcome']==1], ax=axs[0]).set_xlabel(\"P(SkinThickness|Outcome=1)\")\n",
    "fig = sns.distplot(df_density['SkinThickness'][df_density['Outcome']==0], ax=axs[1]).set_xlabel(\"P(SkinThickness|Outcome=0)\")"
   ]
  },
  {
   "cell_type": "code",
   "execution_count": 78,
   "metadata": {},
   "outputs": [
    {
     "data": {
      "image/png": "[encoded data removed]",
      "text/plain": [
       "<Figure size 432x288 with 2 Axes>"
      ]
     },
     "metadata": {},
     "output_type": "display_data"
    }
   ],
   "source": [
    "fig, axs = plt.subplots(ncols=2)\n",
    "fig = sns.distplot(df_density['Insulin'][df_density['Outcome']==1], ax=axs[0]).set_xlabel(\"P(Insulin|Outcome=1)\")\n",
    "fig = sns.distplot(df_density['Insulin'][df_density['Outcome']==0], ax=axs[1]).set_xlabel(\"P(Insulin|Outcome=0)\")"
   ]
  },
  {
   "cell_type": "code",
   "execution_count": 79,
   "metadata": {},
   "outputs": [
    {
     "data": {
      "image/png": "[encoded data removed]",
      "text/plain": [
       "<Figure size 432x288 with 2 Axes>"
      ]
     },
     "metadata": {},
     "output_type": "display_data"
    }
   ],
   "source": [
    "fig, axs = plt.subplots(ncols=2)\n",
    "fig = sns.distplot(df_density['BMI'][df_density['Outcome']==1], ax=axs[0]).set_xlabel(\"P(BMI|Outcome=1)\")\n",
    "fig = sns.distplot(df_density['BMI'][df_density['Outcome']==0], ax=axs[1]).set_xlabel(\"P(BMI|Outcome=0)\")"
   ]
  },
  {
   "cell_type": "code",
   "execution_count": 80,
   "metadata": {},
   "outputs": [
    {
     "data": {
      "image/png": "[encoded data removed]",
      "text/plain": [
       "<Figure size 432x288 with 2 Axes>"
      ]
     },
     "metadata": {},
     "output_type": "display_data"
    }
   ],
   "source": [
    "fig, axs = plt.subplots(ncols=2)\n",
    "fig = sns.distplot(df_density['DiabetesPedigreeFunction'][df_density['Outcome']==1], ax=axs[0]).set_xlabel(\"P(DiabetesPedigreeFunction|Outcome=1)\")\n",
    "fig = sns.distplot(df_density['DiabetesPedigreeFunction'][df_density['Outcome']==0], ax=axs[1]).set_xlabel(\"P(DiabetesPedigreeFunction|Outcome=0)\")"
   ]
  },
  {
   "cell_type": "code",
   "execution_count": 81,
   "metadata": {},
   "outputs": [],
   "source": [
    "#df_density['BloodPressure'][df_density['Outcome']==1]"
   ]
  },
  {
   "cell_type": "markdown",
   "metadata": {},
   "source": [
    "## Predict with Naive Bayes Classifier"
   ]
  },
  {
   "cell_type": "markdown",
   "metadata": {},
   "source": [
    "### As we ignore the marginal probabilities (P(glucose), P(BloodPressure), P(Insulin) ...etc) in the denominator as they are constant, we only focus on computing the numerator of the posterior defined as :\n",
    "P(Outcome)*P(Glucose|Outcome)*P(Insulin|Outcome)*P(BloodPressure|Outcome)*P(SkinThickness|Outcome)*P(BMI|Outcome)*P(Age|Outcome)*P(Pregnancies|Outcome)*\n",
    "\n",
    "\n",
    "\n"
   ]
  },
  {
   "cell_type": "code",
   "execution_count": 149,
   "metadata": {},
   "outputs": [],
   "source": [
    "# Compute conditional probabilities for continuous and categorical variable in the test data for each class\n",
    "def calculateDensity(testdata):\n",
    "    df_prob_positive = testdata # conditional probabilities for Outcome = 1\n",
    "    df_prob_negative = testdata # conditional probabilities for outcome = 0\n",
    "    \n",
    "    for column in testdata.columns :\n",
    "        if column == 'Glucose':\n",
    "            df_prob_positive[column] = df_prob_positive[column].apply(density, args = [glucose_positive_variance, glucose_positive_mean ])\n",
    "            df_prob_negative[column] = df_prob_negative[column].apply(density, args = [glucose_negative_variance, glucose_negative_mean ])\n",
    "\n",
    "\n",
    "        elif column == 'BloodPressure':\n",
    "            df_prob_positive[column] = df_prob_positive[column].apply(density, args = [bloodpressure_positive_variance, bloodpressure_positive_mean])\n",
    "            df_prob_negative[column] = df_prob_negative[column].apply(density, args = [bloodpressure_negative_variance, bloodpressure_negative_mean])\n",
    "\n",
    "\n",
    "        elif column == 'SkinThickness':\n",
    "            df_prob_positive[column] = df_prob_positive[column].apply(density, args = [skinthinckness_positive_variance, skinthinckness_positive_mean])\n",
    "            df_prob_negative[column] = df_prob_negative[column].apply(density, args = [skinthinckness_negative_variance, skinthinckness_negative_mean])\n",
    "\n",
    "\n",
    "        elif column == 'Insulin':\n",
    "            df_prob_positive[column] = df_prob_positive[column].apply(density, args = [skinthinckness_positive_variance, skinthinckness_positive_mean])\n",
    "            df_prob_negative[column] = df_prob_negative[column].apply(density, args = [skinthinckness_negative_variance, skinthinckness_negative_mean])\n",
    "\n",
    "\n",
    "        elif column == 'BMI':\n",
    "            df_prob_positive[column] = df_prob_positive[column].apply(density, args = [bmi_positive_variance, bmi_positive_mean])\n",
    "            df_prob_negative[column] = df_prob_negative[column].apply(density, args = [bmi_negative_variance, bmi_negative_mean])\n",
    "\n",
    "\n",
    "        elif column == 'DiabetesPedigreeFunction':\n",
    "            df_prob_positive[column] = df_prob_positive[column].apply(density, args = [diabetePedigree_positive_variance, diabetePedigree_positive_mean])\n",
    "            df_prob_negative[column] = df_prob_negative[column].apply(density, args = [diabetePedigree_negative_variance, diabetePedigree_negative_mean])\n",
    "        \n",
    "        elif column == 'Pregnancies':\n",
    "            # Here below replacing the 'Medium' observation by the value of P(Pregnancies = Medium|Outcome)\n",
    "            df_prob_positive[column].replace('Medium', probTable_pregnancies['value'][2], inplace = True)\n",
    "            df_prob_negative[column].replace('Medium', probTable_pregnancies['value'][3], inplace = True)\n",
    "            \n",
    "            df_prob_negative[column].replace('Small', probTable_pregnancies['value'][0], inplace = True)\n",
    "            df_prob_negative[column].replace('Small', probTable_pregnancies['value'][1], inplace = True)\n",
    "\n",
    "            df_prob_negative[column].replace('Large', probTable_pregnancies['value'][4], inplace = True)\n",
    "            df_prob_negative[column].replace('Large', probTable_pregnancies['value'][5], inplace = True)\n",
    "        \n",
    "        elif column == 'Age':\n",
    "            df_prob_positive[column].replace('Young', probTable_age['value'][0], inplace = True)\n",
    "            df_prob_positive[column].replace('Old', probTable_age['value'][1], inplace = True)\n",
    "   \n",
    "    return df_prob_positive, df_prob_negative"
   ]
  },
  {
   "cell_type": "code",
   "execution_count": 162,
   "metadata": {},
   "outputs": [],
   "source": [
    "def getPredictions(test_data):\n",
    "    class_list =[]\n",
    "    positive_diagnosis, negative_diagnosis = calculateDensity(test_data)\n",
    "    positive_diagnosis_product = positive_diagnosis.product(axis = 1) # Compute Product of conditional probabilities for all features for Outcome = 1\n",
    "    negative_diagnosis_product = negative_diagnosis.product(axis = 1)\n",
    "    for i in range(len(test_data)):\n",
    "        p_1 = prob_positive*positive_diagnosis_product.iloc[i]\n",
    "        p_0 = prob_negative*negative_diagnosis_product.iloc[i]\n",
    "        if ( p_1 > p_0):\n",
    "            class_list.append(1)\n",
    "        else:\n",
    "            class_list.append(0)\n",
    "            \n",
    "    return class_list\n",
    "            "
   ]
  },
  {
   "cell_type": "code",
   "execution_count": 163,
   "metadata": {},
   "outputs": [],
   "source": [
    "y_pred = getPredictions(X_test)"
   ]
  },
  {
   "cell_type": "code",
   "execution_count": 164,
   "metadata": {},
   "outputs": [],
   "source": [
    "def accuracy(y, y_pred):\n",
    "    accuracy = (np.sum(y == y_pred) / len(y))*100\n",
    "    return accuracy"
   ]
  },
  {
   "cell_type": "code",
   "execution_count": 165,
   "metadata": {},
   "outputs": [
    {
     "name": "stdout",
     "output_type": "stream",
     "text": [
      "accuracy = 69.48051948051948\n"
     ]
    }
   ],
   "source": [
    "print(\"accuracy = {}\".format(accuracy(Y_test,y_pred)))"
   ]
  },
  {
   "cell_type": "code",
   "execution_count": 166,
   "metadata": {},
   "outputs": [
    {
     "name": "stdout",
     "output_type": "stream",
     "text": [
      "################### Confusion Matrix ##############\n",
      "[[107   0]\n",
      " [ 47   0]]\n",
      "\n",
      "\n",
      "################### Report #########################\n",
      "             precision    recall  f1-score   support\n",
      "\n",
      "          0       0.69      1.00      0.82       107\n",
      "          1       0.00      0.00      0.00        47\n",
      "\n",
      "avg / total       0.48      0.69      0.57       154\n",
      "\n"
     ]
    }
   ],
   "source": [
    "############### Confusion Matrix ##############################\n",
    "from sklearn.metrics import confusion_matrix\n",
    "from sklearn.metrics import classification_report\n",
    "\n",
    "mat_conf = confusion_matrix(Y_test,y_pred)\n",
    "print('################### Confusion Matrix ##############')\n",
    "print(mat_conf)\n",
    "print('\\n')\n",
    "print('################### Report #########################')\n",
    "print(classification_report(Y_test,y_pred))"
   ]
  },
  {
   "cell_type": "code",
   "execution_count": null,
   "metadata": {},
   "outputs": [],
   "source": [
    " "
   ]
  }
 ],
 "metadata": {
  "kernelspec": {
   "display_name": "Python 3",
   "language": "python",
   "name": "python3"
  },
  "language_info": {
   "codemirror_mode": {
    "name": "ipython",
    "version": 3
   },
   "file_extension": ".py",
   "mimetype": "text/x-python",
   "name": "python",
   "nbconvert_exporter": "python",
   "pygments_lexer": "ipython3",
   "version": "3.6.8"
  }
 },
 "nbformat": 4,
 "nbformat_minor": 2
}
